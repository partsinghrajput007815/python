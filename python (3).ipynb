{
  "nbformat": 4,
  "nbformat_minor": 0,
  "metadata": {
    "colab": {
      "provenance": []
    },
    "kernelspec": {
      "name": "python3",
      "display_name": "Python 3"
    },
    "language_info": {
      "name": "python"
    }
  },
  "cells": [
    {
      "cell_type": "markdown",
      "source": [
        "#python\n"
      ],
      "metadata": {
        "id": "4jlzElxJ0TPw"
      }
    },
    {
      "cell_type": "markdown",
      "source": [
        "1. What is python, and why is it popular?\n",
        "   \n",
        "   - Python is a programming languagethat is easy to understand and write, making it a popular choice amomg developers and programmers. python's popularity stems from its simplicity, versatillity, and extensive library ecosyatem, making it accessible for both beigmmers and experts."
      ],
      "metadata": {
        "id": "2uh0phs21B1L"
      }
    },
    {
      "cell_type": "markdown",
      "source": [
        "2. What is an interpreter in Python?\n",
        "\n",
        "    - In python, an interpreter is a programthat reads and executes python code line by line, without requiring it to be compiled into machine code beforehand. It translate each high-level statement into lower-level instructions that computer can understand and run.\n",
        "    "
      ],
      "metadata": {
        "id": "5uJbaDw45qLZ"
      }
    },
    {
      "cell_type": "markdown",
      "source": [
        "3. What are pre-defined keywords in Python?\n",
        "\n",
        "  - Keywords are reserved words in python that have special meanings and cannot be used as identifiers (variable names, function names, etc.)"
      ],
      "metadata": {
        "id": "bsUFQ2ZK66cy"
      }
    },
    {
      "cell_type": "markdown",
      "source": [
        "4. Can keywords be used as variable names?\n",
        "\n",
        " - No, keywords cannot be used as variable names in python. keywords are reserved words that have specific meanings within the language's syntex and structure"
      ],
      "metadata": {
        "id": "6sXH8qv5769x"
      }
    },
    {
      "cell_type": "markdown",
      "source": [
        "5. What is mutability in Python?\n",
        "\n",
        " - Mutable objects, such as lists and dictionaries, can be modified after creation. mutable objects can have their values changed, items added or removed, or their internal state altered ,all without creating a new object."
      ],
      "metadata": {
        "id": "24WqvAer9fe2"
      }
    },
    {
      "cell_type": "markdown",
      "source": [
        "6. Why are lists mutable, but tuples are immutable?\n",
        "\n",
        " - Tuples and list are the same in every way expect two:tuple use parentheses instead of square brackets, and the items in tuple cannot be modified. We often call list mutable and tuples immutable.\n"
      ],
      "metadata": {
        "id": "sLK1LWo2wMg9"
      }
    },
    {
      "cell_type": "markdown",
      "source": [
        "7. What is the difference between \"==\" and \"is\" operators in python?\n",
        "\n",
        "  - The == and is operator in python are both used for comparisons, but they serve different purpose:\n",
        "\n",
        "    == Operator:- Computers the values of two objects. Returns True if the values are equal, and false otherwise. Focuses on the content or data held by the objects.\n",
        "\n",
        "    Is operator:- Checks if two variables refer to the same objectin memory. Return True if the variables point to the same memory location, and False otherwise. Focuses on whether the objects are identical instances.\n",
        "  \n",
        "\n"
      ],
      "metadata": {
        "id": "s4TGkp8d5aOW"
      }
    },
    {
      "cell_type": "markdown",
      "source": [
        "8. What are logical operatorin python?\n",
        " - Logical operators in python are used to combine or modify boolean expressions(True or False). There are three main logical operator:-\n",
        "\n",
        "      and: Return True if both operands are true, otherwise returns false.\n",
        "\n",
        "      or: Return True if at least one of the operands is True, otherwise returns False.\n",
        "\n",
        "      not: Returns True if the operands is False, and False if the operands is True .It reverses the boolean values of its operands."
      ],
      "metadata": {
        "id": "5aslbFp25Qcp"
      }
    },
    {
      "cell_type": "markdown",
      "source": [
        "9. What is type casting in python?\n",
        "\n",
        "  - The process of changing the data type of value/object. This is useful when you need to perform operations that require specific data types or when you need to convert data from one format to another.\n",
        "\n"
      ],
      "metadata": {
        "id": "caauFlX35VDd"
      }
    },
    {
      "cell_type": "markdown",
      "source": [
        "10. What is the difference between implicit and explicit type casting?\n",
        "\n",
        " -  Implicit type casting, also known as widening or upcasting, is when the compiler automatically converts a data type to a larger or more inclusive type. Explicit type casting, also called narrowing or downcasting, requires the programmer to use a cast operator to manually convert a data type to a smaller or less inclusive type.\n",
        "\n",
        "    "
      ],
      "metadata": {
        "id": "cMO67evR9YGq"
      }
    },
    {
      "cell_type": "markdown",
      "source": [
        "11. What is the purpose of conditional statement in python?\n",
        "\n",
        " -  Conditional statement in python are used to control the flow of execution in a program based on certain conditional. They allow the program to make decision and execute different blocks of code depending on whether a conditional is true or false.\n",
        "    \n",
        "      Help you to code decision based on some preconditions:\n",
        "\n",
        "      #if\n",
        "    \n",
        "      #if else\n",
        "    \n",
        "      #if elif-else\n",
        "    \n",
        "      #nested od else"
      ],
      "metadata": {
        "id": "F22AbVzkASbG"
      }
    },
    {
      "cell_type": "markdown",
      "source": [
        "12. how does the elif statement work?\n",
        "\n",
        "   -  The elif statement in python, short for \"elif\" is used to check multiple conditions in a sequence. Its part of a conditional structure that begins with an if statement, followed by zero or more elif statement, and optionlly ends with an ekse statement."
      ],
      "metadata": {
        "id": "3hBSKH5UDaFO"
      }
    },
    {
      "cell_type": "markdown",
      "source": [
        "13. What is the difference between for and while loops?\n",
        "    \n",
        " -    For loop:- for loop used to iterate over sequence of elements or other iterable objects.\n",
        "      \n",
        "     While loop:- while loop used to repeatedly executed a block of code untill a condition is met."
      ],
      "metadata": {
        "id": "6MoU8Z_5FWD5"
      }
    },
    {
      "cell_type": "markdown",
      "source": [
        "14. Describe a scenario where a while loop is more suitable than a for loop?\n",
        "\n",
        " -   In programming, for loops are best used when you know the number of iterations aheads of time, whereas a while loop is best used when you don't know the number of iterations in advance.Both methods can help you iterate through your code.\n"
      ],
      "metadata": {
        "id": "NxgN6DRSI8eV"
      }
    },
    {
      "cell_type": "markdown",
      "source": [
        "#Practical Questions"
      ],
      "metadata": {
        "id": "_E__NpJtLXNb"
      }
    },
    {
      "cell_type": "markdown",
      "source": [
        "1. Write a Python program to print \"Hello, World!\"?\n"
      ],
      "metadata": {
        "id": "P-OaOXUHLuNB"
      }
    },
    {
      "cell_type": "code",
      "execution_count": null,
      "metadata": {
        "id": "3JPDYPRYzwFa",
        "colab": {
          "base_uri": "https://localhost:8080/"
        },
        "outputId": "2a57f338-f35e-4266-8c28-1349bb7247e7"
      },
      "outputs": [
        {
          "output_type": "stream",
          "name": "stdout",
          "text": [
            "Hello,World!\n"
          ]
        }
      ],
      "source": [
        "print(\"Hello\", end = \",\")\n",
        "print(\"World!\")"
      ]
    },
    {
      "cell_type": "markdown",
      "source": [
        "\n",
        "2. Write a Python program that displays your name and age?\n"
      ],
      "metadata": {
        "id": "IkSvanhhz_QG"
      }
    },
    {
      "cell_type": "code",
      "source": [
        "Name = input (\"Please Enter Your Name\")\n",
        "Age = input (\"Please Enter Your Name\")"
      ],
      "metadata": {
        "id": "SzFJuR1r0HB1",
        "colab": {
          "base_uri": "https://localhost:8080/"
        },
        "outputId": "281ac31e-2f3a-4916-f548-67876d0e3abd"
      },
      "execution_count": null,
      "outputs": [
        {
          "name": "stdout",
          "output_type": "stream",
          "text": [
            "Please Enter Your Name  - Mansi Rajput\n",
            "Please Enter Your Name  - 23\n"
          ]
        }
      ]
    },
    {
      "cell_type": "markdown",
      "source": [
        "3. Write code to print all the pre-defined keywords in Python using the keyword library?"
      ],
      "metadata": {
        "id": "fS_lhHTNPdjY"
      }
    },
    {
      "cell_type": "code",
      "source": [
        "help(\"keywords\")"
      ],
      "metadata": {
        "colab": {
          "base_uri": "https://localhost:8080/"
        },
        "id": "aVqAQKkIPjOe",
        "outputId": "3b09702d-d0d8-44d6-9012-ac385c77c00a"
      },
      "execution_count": null,
      "outputs": [
        {
          "output_type": "stream",
          "name": "stdout",
          "text": [
            "\n",
            "Here is a list of the Python keywords.  Enter any keyword to get more help.\n",
            "\n",
            "False               class               from                or\n",
            "None                continue            global              pass\n",
            "True                def                 if                  raise\n",
            "and                 del                 import              return\n",
            "as                  elif                in                  try\n",
            "assert              else                is                  while\n",
            "async               except              lambda              with\n",
            "await               finally             nonlocal            yield\n",
            "break               for                 not                 \n",
            "\n"
          ]
        }
      ]
    },
    {
      "cell_type": "markdown",
      "source": [
        "4. Write a program that checks if all a given word is a python keyword?\n",
        "\n"
      ],
      "metadata": {
        "id": "cgR-7kqxSYdi"
      }
    },
    {
      "cell_type": "code",
      "source": [
        "#continue\n",
        "for i in range (10):\n",
        "     if i == 5:\n",
        "          continue\n",
        "     print(i)"
      ],
      "metadata": {
        "colab": {
          "base_uri": "https://localhost:8080/"
        },
        "id": "6pceSywVlzHq",
        "outputId": "4f84f064-a41e-4cd8-cac2-ca527148d599"
      },
      "execution_count": null,
      "outputs": [
        {
          "output_type": "stream",
          "name": "stdout",
          "text": [
            "0\n",
            "1\n",
            "2\n",
            "3\n",
            "4\n",
            "6\n",
            "7\n",
            "8\n",
            "9\n"
          ]
        }
      ]
    },
    {
      "cell_type": "markdown",
      "source": [
        "5. Create a list and tuple in python,and demonstrate how attempting to change an element works differently for each.\n"
      ],
      "metadata": {
        "id": "MF3PRrw4mDd7"
      }
    },
    {
      "cell_type": "code",
      "source": [
        " l = [1,2,3,4,5]\n",
        " print(1)\n",
        " t = (tuple)\n",
        " print(t)\n",
        "\n"
      ],
      "metadata": {
        "id": "T2_aw2LfPatH",
        "colab": {
          "base_uri": "https://localhost:8080/"
        },
        "outputId": "cf9e07e1-3de8-4a95-cb71-b22b0244afdd"
      },
      "execution_count": 22,
      "outputs": [
        {
          "output_type": "stream",
          "name": "stdout",
          "text": [
            "1\n",
            "<class 'tuple'>\n"
          ]
        }
      ]
    },
    {
      "cell_type": "markdown",
      "source": [
        "6. Write a function to demonstrate the behavior of mutable and immutable arguments."
      ],
      "metadata": {
        "id": "F7LRKhRnm107"
      }
    },
    {
      "cell_type": "code",
      "source": [
        "#mutable\n",
        "my_list = [1,2,3]\n",
        "my_list.append(4)\n",
        "print(my_list)"
      ],
      "metadata": {
        "id": "bT1cEtqgPaox",
        "colab": {
          "base_uri": "https://localhost:8080/"
        },
        "outputId": "63d3c26d-611e-41fb-d39b-aac5b878ee6e"
      },
      "execution_count": null,
      "outputs": [
        {
          "output_type": "stream",
          "name": "stdout",
          "text": [
            "[1, 2, 3, 4]\n"
          ]
        }
      ]
    },
    {
      "cell_type": "code",
      "source": [
        "#immutable\n",
        "x = 6\n",
        "y = x + 1 #x is not changed, a new object is created for y\n",
        "print(y)"
      ],
      "metadata": {
        "colab": {
          "base_uri": "https://localhost:8080/"
        },
        "id": "IGBNQ0zSGQ3C",
        "outputId": "977e8d7c-6246-41b5-8e85-f5be0907b125"
      },
      "execution_count": null,
      "outputs": [
        {
          "output_type": "stream",
          "name": "stdout",
          "text": [
            "7\n"
          ]
        }
      ]
    },
    {
      "cell_type": "markdown",
      "source": [
        "7. Write a program that performs basic arithmetic operations on two user-input numbers."
      ],
      "metadata": {
        "id": "qbW0kLfTz9v0"
      }
    },
    {
      "cell_type": "code",
      "source": [
        "#Addition\n",
        "a = 5\n",
        "b = 5\n",
        "a + b"
      ],
      "metadata": {
        "colab": {
          "base_uri": "https://localhost:8080/"
        },
        "id": "rlOFedyn44ce",
        "outputId": "e2fc7c0b-c663-41a5-c8ed-431167684fae"
      },
      "execution_count": null,
      "outputs": [
        {
          "output_type": "execute_result",
          "data": {
            "text/plain": [
              "10"
            ]
          },
          "metadata": {},
          "execution_count": 2
        }
      ]
    },
    {
      "cell_type": "code",
      "source": [
        "#subtraction\n",
        "a = 15\n",
        "b = 7\n",
        "a - b"
      ],
      "metadata": {
        "colab": {
          "base_uri": "https://localhost:8080/"
        },
        "id": "hWbmUoKJ5NS3",
        "outputId": "3ac7e983-3ab2-4f88-e70f-78c4e4b1fe56"
      },
      "execution_count": null,
      "outputs": [
        {
          "output_type": "execute_result",
          "data": {
            "text/plain": [
              "8"
            ]
          },
          "metadata": {},
          "execution_count": 3
        }
      ]
    },
    {
      "cell_type": "markdown",
      "source": [
        "8. Write a program to demonstrate the use of logical operators."
      ],
      "metadata": {
        "id": "89pusRwK5bTK"
      }
    },
    {
      "cell_type": "code",
      "source": [
        "2==2"
      ],
      "metadata": {
        "colab": {
          "base_uri": "https://localhost:8080/"
        },
        "id": "E8I_9WgW5ZIG",
        "outputId": "d58220c9-0911-4b22-a185-62e9a73f0389"
      },
      "execution_count": null,
      "outputs": [
        {
          "output_type": "execute_result",
          "data": {
            "text/plain": [
              "True"
            ]
          },
          "metadata": {},
          "execution_count": 4
        }
      ]
    },
    {
      "cell_type": "code",
      "source": [
        "5>15"
      ],
      "metadata": {
        "colab": {
          "base_uri": "https://localhost:8080/"
        },
        "id": "jcBl0Okj7yv7",
        "outputId": "b406396a-df9c-4455-be96-06f47911041d"
      },
      "execution_count": null,
      "outputs": [
        {
          "output_type": "execute_result",
          "data": {
            "text/plain": [
              "False"
            ]
          },
          "metadata": {},
          "execution_count": 5
        }
      ]
    },
    {
      "cell_type": "markdown",
      "source": [
        "9. Write a python program to convert user into from string to integer, float ,and boolean types."
      ],
      "metadata": {
        "id": "fQ71VlJ48hAX"
      }
    },
    {
      "cell_type": "code",
      "source": [
        "#string to integer\n",
        "a = \"2\"\n",
        "b = 3\n",
        "int(a) + b"
      ],
      "metadata": {
        "colab": {
          "base_uri": "https://localhost:8080/"
        },
        "id": "93y0UF6G77DL",
        "outputId": "45497bf7-0a90-4876-88fd-fde3a733bd35"
      },
      "execution_count": null,
      "outputs": [
        {
          "output_type": "execute_result",
          "data": {
            "text/plain": [
              "5"
            ]
          },
          "metadata": {},
          "execution_count": 6
        }
      ]
    },
    {
      "cell_type": "code",
      "source": [
        "#string to float\n",
        "a = \"2.3\"\n",
        "b = float(a)\n",
        "type(b)"
      ],
      "metadata": {
        "colab": {
          "base_uri": "https://localhost:8080/"
        },
        "id": "v9nyOUUS8bVL",
        "outputId": "9123e3c4-aa04-4086-ef7d-9dec50aa07f3"
      },
      "execution_count": null,
      "outputs": [
        {
          "output_type": "execute_result",
          "data": {
            "text/plain": [
              "float"
            ]
          },
          "metadata": {},
          "execution_count": 7
        }
      ]
    },
    {
      "cell_type": "code",
      "source": [
        "#string to boolean\n",
        "bool(1)"
      ],
      "metadata": {
        "colab": {
          "base_uri": "https://localhost:8080/"
        },
        "id": "oX3FSDL99gQa",
        "outputId": "9dfd54d5-48d3-4b6c-e891-5b571b1eae71"
      },
      "execution_count": null,
      "outputs": [
        {
          "output_type": "execute_result",
          "data": {
            "text/plain": [
              "True"
            ]
          },
          "metadata": {},
          "execution_count": 8
        }
      ]
    },
    {
      "cell_type": "markdown",
      "source": [
        "10. Write code to demonstrate type casting with list elements."
      ],
      "metadata": {
        "id": "JSofiftE_f4u"
      }
    },
    {
      "cell_type": "code",
      "source": [
        "a = [\"1\", \"2\", \"3\", \"4\", \"5\"]\n",
        "list(map(int, a))"
      ],
      "metadata": {
        "id": "Sz94yqDc_bdM",
        "colab": {
          "base_uri": "https://localhost:8080/"
        },
        "outputId": "c4dbf25f-3b4d-49d9-c888-bd816fcf8ca1"
      },
      "execution_count": 16,
      "outputs": [
        {
          "output_type": "execute_result",
          "data": {
            "text/plain": [
              "[1, 2, 3, 4, 5]"
            ]
          },
          "metadata": {},
          "execution_count": 16
        }
      ]
    },
    {
      "cell_type": "markdown",
      "source": [
        "11. Write a program that checks if a number is positive, negative, or zero."
      ],
      "metadata": {
        "id": "9rnKWBVQAybj"
      }
    },
    {
      "cell_type": "code",
      "source": [
        "num = float(input(\"Enter a number\"))\n",
        "if num > 0:\n",
        "  print(\"positive number\")\n",
        "  if num < 0:\n",
        "    print(\"negative number\")\n",
        "  if num == 0:\n",
        "      print(\"zero number\")"
      ],
      "metadata": {
        "id": "xbLpVJfvBNkc",
        "colab": {
          "base_uri": "https://localhost:8080/"
        },
        "outputId": "1bd3b11d-fd32-4340-b6f5-6f43eb0a94f9"
      },
      "execution_count": 15,
      "outputs": [
        {
          "output_type": "stream",
          "name": "stdout",
          "text": [
            "Enter a number  8\n",
            "positive number\n"
          ]
        }
      ]
    },
    {
      "cell_type": "markdown",
      "source": [
        "12. Write a for loop to print number from 1 to 10."
      ],
      "metadata": {
        "id": "13VXuVLfBPKs"
      }
    },
    {
      "cell_type": "code",
      "source": [
        "i = 1\n",
        "while i<= 10:\n",
        "  print(i)\n",
        "  i = i + 1"
      ],
      "metadata": {
        "colab": {
          "base_uri": "https://localhost:8080/"
        },
        "id": "TSqP-wINBcjF",
        "outputId": "efa691a5-8752-4821-822e-d6745853e27b"
      },
      "execution_count": null,
      "outputs": [
        {
          "output_type": "stream",
          "name": "stdout",
          "text": [
            "1\n",
            "2\n",
            "3\n",
            "4\n",
            "5\n",
            "6\n",
            "7\n",
            "8\n",
            "9\n",
            "10\n"
          ]
        }
      ]
    },
    {
      "cell_type": "markdown",
      "source": [
        "13. Write a python program to find the sum of all even numbers between 1 and 50."
      ],
      "metadata": {
        "id": "eOujM62HCJVJ"
      }
    },
    {
      "cell_type": "code",
      "source": [
        "#print the even no\n",
        "for i in range (50):\n",
        "    if i%2 !=0:\n",
        "      continue\n",
        "    print(i)"
      ],
      "metadata": {
        "colab": {
          "base_uri": "https://localhost:8080/"
        },
        "id": "0vrAiZy3CdSw",
        "outputId": "935529c0-59c4-440b-c1b1-038c125ef465"
      },
      "execution_count": null,
      "outputs": [
        {
          "output_type": "stream",
          "name": "stdout",
          "text": [
            "0\n",
            "2\n",
            "4\n",
            "6\n",
            "8\n",
            "10\n",
            "12\n",
            "14\n",
            "16\n",
            "18\n",
            "20\n",
            "22\n",
            "24\n",
            "26\n",
            "28\n",
            "30\n",
            "32\n",
            "34\n",
            "36\n",
            "38\n",
            "40\n",
            "42\n",
            "44\n",
            "46\n",
            "48\n"
          ]
        }
      ]
    },
    {
      "cell_type": "markdown",
      "source": [
        "14.Write a program to reverse a string using a while loop."
      ],
      "metadata": {
        "id": "cRiwH7NYC5Vj"
      }
    },
    {
      "cell_type": "code",
      "source": [
        "string = \"python\"\n",
        "\n",
        "rev_str = \"\"\n",
        "length =len(string)-1\n",
        "while length >= 0:\n",
        "  rev_str += string[length]\n",
        "  length -=1\n",
        "\n",
        "print(rev_str)"
      ],
      "metadata": {
        "id": "xMsRs4YcBvwe",
        "colab": {
          "base_uri": "https://localhost:8080/"
        },
        "outputId": "073d13f5-431f-434c-b162-e39c9dcaa053"
      },
      "execution_count": null,
      "outputs": [
        {
          "output_type": "stream",
          "name": "stdout",
          "text": [
            "nohtyp\n"
          ]
        }
      ]
    },
    {
      "cell_type": "markdown",
      "source": [
        "15. Write a python program to calculate the factorial of a number provided by the user using a while loop."
      ],
      "metadata": {
        "id": "ESZKbuvcDj3g"
      }
    },
    {
      "cell_type": "code",
      "source": [
        "num = int(input(\"Enter any number :\"))\n",
        "fact = 1\n",
        "a = 1\n",
        "while a>=num:\n",
        "  fact = fact*a\n",
        "  a = a+1\n",
        "  print(\"The factorial of \",num, \"is\",fact)"
      ],
      "metadata": {
        "id": "HgnH7YAuD55g",
        "colab": {
          "base_uri": "https://localhost:8080/"
        },
        "outputId": "77bbede0-c36c-4c60-c99b-e11d4128265d"
      },
      "execution_count": 10,
      "outputs": [
        {
          "name": "stdout",
          "output_type": "stream",
          "text": [
            "Enter any number :  9\n"
          ]
        }
      ]
    },
    {
      "cell_type": "code",
      "source": [
        "\n"
      ],
      "metadata": {
        "id": "Pldxt4vBvXho"
      },
      "execution_count": 10,
      "outputs": []
    },
    {
      "cell_type": "code",
      "source": [],
      "metadata": {
        "id": "BUK2CiL63bMA"
      },
      "execution_count": 9,
      "outputs": []
    }
  ]
}